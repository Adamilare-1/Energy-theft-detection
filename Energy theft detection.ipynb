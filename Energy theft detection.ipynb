{
 "cells": [
  {
   "cell_type": "code",
   "execution_count": 1,
   "id": "1fca2a29-9f45-4d9e-aada-0b1251aee09a",
   "metadata": {},
   "outputs": [],
   "source": [
    "import pandas as pd\n",
    "import numpy as np\n",
    "from sklearn.model_selection import train_test_split\n",
    "from sklearn.metrics import classification_report, accuracy_score, confusion_matrix\n",
    "from sklearn.linear_model import LogisticRegression\n",
    "from sklearn.tree import DecisionTreeClassifier\n",
    "from sklearn.ensemble import RandomForestClassifier\n",
    "from xgboost import XGBClassifier\n",
    "from lightgbm import LGBMClassifier\n",
    "import joblib\n"
   ]
  },
  {
   "cell_type": "code",
   "execution_count": 21,
   "id": "ae1597bd-8647-44c1-b0f9-7ae8cc007685",
   "metadata": {},
   "outputs": [],
   "source": [
    "# Replace path with your actual file path\n",
    "data = pd.read_excel('energy_theft_data.xlsx')\n",
    "\n",
    "# Features and target\n",
    "X = data.drop([\"customer_id\", \"theft_flag\", \"power_bypassed\"], axis=1)\n",
    "y = data[\"theft_flag\"]\n",
    "\n",
    "# Split data\n",
    "X_train, X_test, y_train, y_test = train_test_split(X, y, stratify=y, test_size=0.2, random_state=42)"
   ]
  },
  {
   "cell_type": "code",
   "execution_count": 22,
   "id": "3516d428-c490-416d-970b-bc67e06fabf7",
   "metadata": {},
   "outputs": [
    {
     "name": "stdout",
     "output_type": "stream",
     "text": [
      "✅ All models have been trained.\n"
     ]
    }
   ],
   "source": [
    "from sklearn.ensemble import RandomForestClassifier\n",
    "from sklearn.tree import DecisionTreeClassifier\n",
    "from sklearn.neighbors import KNeighborsClassifier\n",
    "from sklearn.svm import SVC\n",
    "from sklearn.naive_bayes import GaussianNB\n",
    "\n",
    "# Model definitions\n",
    "models = {\n",
    "    \"Random Forest\": RandomForestClassifier(random_state=42, n_estimators=100, max_depth=8),\n",
    "    \"Decision Tree\": DecisionTreeClassifier(random_state=42, max_depth=8),\n",
    "    \"K-Nearest Neighbors\": KNeighborsClassifier(n_neighbors=5),\n",
    "    \"SVM\": SVC(random_state=42),\n",
    "    \"Naive Bayes\": GaussianNB()\n",
    "}\n",
    "\n",
    "# Train the models\n",
    "trained_models = {}\n",
    "for name, model in models.items():\n",
    "    model.fit(X_train, y_train)\n",
    "    trained_models[name] = model\n",
    "\n",
    "print(\"✅ All models have been trained.\")"
   ]
  },
  {
   "cell_type": "code",
   "execution_count": 23,
   "id": "35d31792-7205-4f17-a73f-4feada19f861",
   "metadata": {},
   "outputs": [
    {
     "name": "stdout",
     "output_type": "stream",
     "text": [
      "\n",
      "✅ Model Performance Comparison:\n",
      "\n",
      "                 Model  Accuracy  Precision  Recall  F1 Score\n",
      "0  K-Nearest Neighbors     0.975     0.9623  0.9444    0.9533\n",
      "1        Decision Tree     0.950     0.9583  0.8519    0.9020\n",
      "2        Random Forest     0.945     0.9388  0.8519    0.8932\n",
      "3                  SVM     0.930     0.9762  0.7593    0.8542\n",
      "4          Naive Bayes     0.750     0.5455  0.4444    0.4898\n",
      "\n",
      "🏆 Best Model: K-Nearest Neighbors\n"
     ]
    }
   ],
   "source": [
    "from sklearn.metrics import accuracy_score, precision_score, recall_score, f1_score, classification_report\n",
    "import pandas as pd\n",
    "\n",
    "results = []\n",
    "for name, model in trained_models.items():\n",
    "    y_pred = model.predict(X_test)\n",
    "\n",
    "    results.append({\n",
    "        \"Model\": name,\n",
    "        \"Accuracy\": round(accuracy_score(y_test, y_pred), 4),\n",
    "        \"Precision\": round(precision_score(y_test, y_pred, zero_division=0), 4),\n",
    "        \"Recall\": round(recall_score(y_test, y_pred, zero_division=0), 4),\n",
    "        \"F1 Score\": round(f1_score(y_test, y_pred, zero_division=0), 4),\n",
    "    })\n",
    "\n",
    "results_df = pd.DataFrame(results).sort_values(by=\"F1 Score\", ascending=False).reset_index(drop=True)\n",
    "\n",
    "# Print the results\n",
    "print(\"\\n✅ Model Performance Comparison:\\n\")\n",
    "print(results_df)\n",
    "\n",
    "# Identify best model\n",
    "best_model_name = results_df.iloc[0][\"Model\"]\n",
    "best_model = trained_models[best_model_name]\n",
    "print(f\"\\n🏆 Best Model: {best_model_name}\")"
   ]
  },
  {
   "cell_type": "code",
   "execution_count": 24,
   "id": "dcb4b667-4230-4a60-a575-b9285b2c3d7b",
   "metadata": {},
   "outputs": [
    {
     "name": "stdout",
     "output_type": "stream",
     "text": [
      "\n",
      "✅ Model saved successfully as 'best_model.pkl' (0.02 MB) \n"
     ]
    }
   ],
   "source": [
    "model_file = \"best_model.pkl\"\n",
    "joblib.dump(best_model, model_file, compress=3)\n",
    "\n",
    "import os\n",
    "file_size = os.path.getsize(model_file) / (1024 * 1024)  # in MB\n",
    "if file_size <= 20:\n",
    "    print(f\"\\n✅ Model saved successfully as '{model_file}' ({file_size:.2f} MB) \")\n",
    "else:\n",
    "    print(f\"⚠️ Model too large ({file_size:.2f} MB). Consider reducing depth or using fewer estimators.\")"
   ]
  }
 ],
 "metadata": {
  "kernelspec": {
   "display_name": "Python 3 (ipykernel)",
   "language": "python",
   "name": "python3"
  },
  "language_info": {
   "codemirror_mode": {
    "name": "ipython",
    "version": 3
   },
   "file_extension": ".py",
   "mimetype": "text/x-python",
   "name": "python",
   "nbconvert_exporter": "python",
   "pygments_lexer": "ipython3",
   "version": "3.11.7"
  }
 },
 "nbformat": 4,
 "nbformat_minor": 5
}
